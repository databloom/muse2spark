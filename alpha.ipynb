{
 "cells": [
  {
   "cell_type": "code",
   "execution_count": 5,
   "metadata": {},
   "outputs": [
    {
     "name": "stdout",
     "output_type": "stream",
     "text": [
      "High five! You successfully sent some data to your account on plotly. View your plot in your browser at https://plot.ly/~mcbloom/0 or inside your plot.ly account where it is named 'museeeg1'\n"
     ]
    },
    {
     "name": "stderr",
     "output_type": "stream",
     "text": [
      "/opt/conda/lib/python3.7/site-packages/IPython/core/display.py:689: UserWarning:\n",
      "\n",
      "Consider using IPython.display.IFrame instead\n",
      "\n"
     ]
    },
    {
     "data": {
      "text/html": [
       "<iframe id=\"igraph\" scrolling=\"no\" style=\"border:none;\" seamless=\"seamless\" src=\"https://plot.ly/~mcbloom/0.embed\" height=\"525px\" width=\"100%\"></iframe>"
      ],
      "text/plain": [
       "<chart_studio.tools.PlotlyDisplay object>"
      ]
     },
     "execution_count": 5,
     "metadata": {},
     "output_type": "execute_result"
    }
   ],
   "source": [
    "from pyspark.sql import SparkSession\n",
    "import matplotlib\n",
    "import matplotlib.pyplot as plt\n",
    "import plotly.plotly as py\n",
    "import plotly\n",
    "plotly.tools.set_credentials_file(username='mcbloom', api_key='WkKpONteEAFhEjbvxqZf')\n",
    "import plotly.graph_objs as go\n",
    "import pandas as pd\n",
    "import requests\n",
    "\n",
    "spark = SparkSession \\\n",
    "    .builder \\\n",
    "    .appName(\"Python Spark SQL basic example\") \\\n",
    "    .config(\"spark.some.config.option\", \"some-value\") \\\n",
    "    .getOrCreate()\n",
    "\n",
    "input_csv = 'file:////ifs/muse/Muse-2537_2019-05-06--12-11-25_1557159195080.csv'\n",
    "\n",
    "\n",
    "# spark is an existing SparkSession\n",
    "df = spark.read.csv('file:////ifs/muse/Muse-2537_2019-05-06--12-11-25_1557159195080.csv',  header='true')\n",
    "\n",
    "\n",
    "\n",
    "#print (\"Record count:\")\n",
    "#df.count()\n",
    "\n",
    "#print (\"Schema:\")\n",
    "\n",
    "#df.printSchema()\n",
    "\n",
    "#dataPath = \"/databricks-datasets/Rdatasets/data-001/csv/ggplot2/diamonds.csv\"\n",
    "\n",
    "\n",
    "\n",
    "\n",
    "\n",
    "\n",
    "\n",
    "#print (\"Raw data:\")\n",
    "\n",
    "# Displays the content of the DataFrame to stdout\n",
    "#df.show()\n",
    "\n",
    "\n",
    "#print (\"Record count:\")\n",
    "\n",
    "df.createOrReplaceTempView(\"Muse2output\")\n",
    "\n",
    "#df2 = spark.sql(\"SELECT muse2output.timestamps, muse2output.eeg_1,muse2output.eeg_2,muse2output.eeg_3,muse2output.eeg_4,muse2output.eeg_5,muse2output.eeg_6,muse2output.acc_1,muse2output.acc_2,muse2output.acc_3,muse2output.gyro_1,muse2output.gyro_2,muse2output.gyro_3,muse2output.batt_1,muse2output.batt_2,muse2output.batt_3,muse2output.drlref_1,muse2output.drlref_2,muse2output.delta_absolute_1,muse2output.delta_absolute_2,muse2output.delta_absolute_3,muse2output.delta_absolute_4,muse2output.theta_absolute_1,muse2output.theta_absolute_2,muse2output.theta_absolute_3,muse2output.theta_absolute_4,muse2output.alpha_absolute_1,muse2output.alpha_absolute_2,muse2output.alpha_absolute_3,muse2output.alpha_absolute_4,muse2output.beta_absolute_1,muse2output.beta_absolute_2,muse2output.beta_absolute_3,muse2output.beta_absolute_4,muse2output.gamma_absolute_1,muse2output.gamma_absolute_2,muse2output.gamma_absolute_3,muse2output.gamma_absolute_4,muse2output.delta_relative_1,muse2output.delta_relative_2,muse2output.delta_relative_3,muse2output.delta_relative_4,muse2output.theta_relative_1,muse2output.theta_relative_2,muse2output.theta_relative_3,muse2output.theta_relative_4,muse2output.alpha_relative_1,muse2output.alpha_relative_2,muse2output.alpha_relative_3,muse2output.alpha_relative_4,muse2output.beta_relative_1,muse2output.beta_relative_2,muse2output.beta_relative_3,muse2output.beta_relative_4,muse2output.gamma_relative_1,muse2output.gamma_relative_2,muse2output.gamma_relative_3,muse2output.gamma_relative_4,muse2output.delta_session_score_1,muse2output.delta_session_score_2,muse2output.delta_session_score_3,muse2output.delta_session_score_4,muse2output.theta_session_score_1,muse2output.theta_session_score_2,muse2output.theta_session_score_3,muse2output.theta_session_score_4,muse2output.alpha_session_score_1,muse2output.alpha_session_score_2,muse2output.alpha_session_score_3,muse2output.alpha_session_score_4,muse2output.beta_session_score_1,muse2output.beta_session_score_2,muse2output.beta_session_score_3,muse2output.beta_session_score_4,muse2output.gamma_session_score_1,muse2output.gamma_session_score_2,muse2output.gamma_session_score_3,muse2output.gamma_session_score_4,muse2output.blink,muse2output.jaw_clench,muse2output.hsi_precision_1,muse2output.hsi_precision_2,muse2output.hsi_precision_3,muse2output.hsi_precision_4,muse2output.note,muse2output.recorder_info from Muse2output\")\n",
    "df2 = spark.sql(\"SELECT  muse2output.eeg_1 as eeg1 from muse2output\")\n",
    "#df2.collect()\n",
    "\n",
    "data = [go.Histogram(x=df2.toPandas()['eeg1'])]\n",
    "\n",
    "py.iplot(data, filename=\"museeeg1\")\n",
    "\n"
   ]
  },
  {
   "cell_type": "code",
   "execution_count": null,
   "metadata": {},
   "outputs": [],
   "source": []
  },
  {
   "cell_type": "code",
   "execution_count": null,
   "metadata": {},
   "outputs": [],
   "source": []
  },
  {
   "cell_type": "code",
   "execution_count": null,
   "metadata": {},
   "outputs": [],
   "source": []
  }
 ],
 "metadata": {
  "kernelspec": {
   "display_name": "Python 3",
   "language": "python",
   "name": "python3"
  },
  "language_info": {
   "codemirror_mode": {
    "name": "ipython",
    "version": 3
   },
   "file_extension": ".py",
   "mimetype": "text/x-python",
   "name": "python",
   "nbconvert_exporter": "python",
   "pygments_lexer": "ipython3",
   "version": "3.7.3"
  }
 },
 "nbformat": 4,
 "nbformat_minor": 2
}
